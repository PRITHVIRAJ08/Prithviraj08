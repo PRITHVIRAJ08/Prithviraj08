{
  "nbformat": 4,
  "nbformat_minor": 0,
  "metadata": {
    "colab": {
      "name": "Strings.ipynb",
      "provenance": [],
      "include_colab_link": true
    },
    "kernelspec": {
      "name": "python3",
      "display_name": "Python 3"
    },
    "language_info": {
      "name": "python"
    }
  },
  "cells": [
    {
      "cell_type": "markdown",
      "metadata": {
        "id": "view-in-github",
        "colab_type": "text"
      },
      "source": [
        "<a href=\"https://colab.research.google.com/github/PRITHVIRAJ08/Prithviraj08/blob/main/Strings.ipynb\" target=\"_parent\"><img src=\"https://colab.research.google.com/assets/colab-badge.svg\" alt=\"Open In Colab\"/></a>"
      ]
    },
    {
      "cell_type": "code",
      "metadata": {
        "id": "qfWnbPxLMbj-",
        "colab": {
          "base_uri": "https://localhost:8080/"
        },
        "outputId": "fe5a7c28-3fdc-4c8d-ce43-77a733629a69"
      },
      "source": [
        "print(\"Hello\")\n",
        "print('Hi')"
      ],
      "execution_count": 2,
      "outputs": [
        {
          "output_type": "stream",
          "name": "stdout",
          "text": [
            "Hello\n",
            "Hi\n"
          ]
        }
      ]
    },
    {
      "cell_type": "code",
      "metadata": {
        "id": "B3QGPyHTMipU",
        "colab": {
          "base_uri": "https://localhost:8080/"
        },
        "outputId": "a1ffa762-6228-4a16-fdee-fe373b4fce72"
      },
      "source": [
        "a = \"Hello\"\n",
        "print(a)"
      ],
      "execution_count": 3,
      "outputs": [
        {
          "output_type": "stream",
          "name": "stdout",
          "text": [
            "Hello\n"
          ]
        }
      ]
    },
    {
      "cell_type": "code",
      "metadata": {
        "id": "68YQU7gZMlG1",
        "colab": {
          "base_uri": "https://localhost:8080/"
        },
        "outputId": "cb3f77b8-9c72-466c-d715-02c8ca13bf56"
      },
      "source": [
        "a = \"\"\"Lorem ipsum dolor sit amet,\n",
        "consectetur adipiscing elit,\n",
        "sed do eiusmod tempor incididunt\n",
        "ut labore et dolore magna aliqua.\"\"\"\n",
        "print(a)\n",
        "print(len(a))"
      ],
      "execution_count": 4,
      "outputs": [
        {
          "output_type": "stream",
          "name": "stdout",
          "text": [
            "Lorem ipsum dolor sit amet,\n",
            "consectetur adipiscing elit,\n",
            "sed do eiusmod tempor incididunt\n",
            "ut labore et dolore magna aliqua.\n",
            "123\n"
          ]
        }
      ]
    },
    {
      "cell_type": "code",
      "metadata": {
        "id": "nLUGph94Mrgl",
        "colab": {
          "base_uri": "https://localhost:8080/"
        },
        "outputId": "5ecc1749-bffe-4dfa-9de6-bd1ceaa24f1c"
      },
      "source": [
        "a = '''Lorem ipsum dolor sit amet,\n",
        "consectetur adipiscing elit,\n",
        "sed do eiusmod tempor incididunt\n",
        "ut labore et dolore magna aliqua.'''\n",
        "print(a)"
      ],
      "execution_count": 5,
      "outputs": [
        {
          "output_type": "stream",
          "name": "stdout",
          "text": [
            "Lorem ipsum dolor sit amet,\n",
            "consectetur adipiscing elit,\n",
            "sed do eiusmod tempor incididunt\n",
            "ut labore et dolore magna aliqua.\n"
          ]
        }
      ]
    },
    {
      "cell_type": "code",
      "metadata": {
        "id": "YjUeGU6tMvW9",
        "colab": {
          "base_uri": "https://localhost:8080/"
        },
        "outputId": "2499ba92-2d5f-48f9-bd21-d869245e6020"
      },
      "source": [
        "a = \"Hello, World!\"\n",
        "print(a[4])"
      ],
      "execution_count": 10,
      "outputs": [
        {
          "output_type": "stream",
          "name": "stdout",
          "text": [
            "o\n"
          ]
        }
      ]
    },
    {
      "cell_type": "code",
      "metadata": {
        "id": "dj6Jmi3iMx8t",
        "colab": {
          "base_uri": "https://localhost:8080/"
        },
        "outputId": "04dc357f-04d3-47c5-a94e-d9ccc59b7393"
      },
      "source": [
        "for x in \"banana\":\n",
        "  print(x)"
      ],
      "execution_count": 11,
      "outputs": [
        {
          "output_type": "stream",
          "name": "stdout",
          "text": [
            "b\n",
            "a\n",
            "n\n",
            "a\n",
            "n\n",
            "a\n"
          ]
        }
      ]
    },
    {
      "cell_type": "code",
      "metadata": {
        "id": "DEEA1UCDM0lV",
        "colab": {
          "base_uri": "https://localhost:8080/"
        },
        "outputId": "f95eaa12-2a64-419f-ea57-e5f17e9afad7"
      },
      "source": [
        "a = \"Hello     World!\"\n",
        "print(len(a))"
      ],
      "execution_count": 14,
      "outputs": [
        {
          "output_type": "stream",
          "name": "stdout",
          "text": [
            "16\n"
          ]
        }
      ]
    },
    {
      "cell_type": "code",
      "metadata": {
        "id": "tqqfNbmxM4S2",
        "colab": {
          "base_uri": "https://localhost:8080/"
        },
        "outputId": "c146ade1-c82b-46da-85c7-8f0d01fd3c74"
      },
      "source": [
        "txt = \"The best things in life are free!\"\n",
        "print(\"free\" in txt)"
      ],
      "execution_count": 15,
      "outputs": [
        {
          "output_type": "stream",
          "name": "stdout",
          "text": [
            "True\n"
          ]
        }
      ]
    },
    {
      "cell_type": "code",
      "metadata": {
        "id": "DdiknJ49M5zI",
        "colab": {
          "base_uri": "https://localhost:8080/"
        },
        "outputId": "7e24539a-db99-41be-dc36-8dc3658aa054"
      },
      "source": [
        "txt = \"The best things in life are free!\"\n",
        "if \"free\" in txt:\n",
        "  print(\"Yes, 'free' is present.\")"
      ],
      "execution_count": 16,
      "outputs": [
        {
          "output_type": "stream",
          "name": "stdout",
          "text": [
            "Yes, 'free' is present.\n"
          ]
        }
      ]
    },
    {
      "cell_type": "code",
      "metadata": {
        "id": "Vtq16Be_M-DH",
        "colab": {
          "base_uri": "https://localhost:8080/"
        },
        "outputId": "469e647d-47fc-42ed-c42c-1c66e0fe20ac"
      },
      "source": [
        "txt = \"The best things in life are free!\"\n",
        "print(\"expensive\" not in txt)"
      ],
      "execution_count": 17,
      "outputs": [
        {
          "output_type": "stream",
          "name": "stdout",
          "text": [
            "True\n"
          ]
        }
      ]
    },
    {
      "cell_type": "code",
      "metadata": {
        "id": "iWijH4Q4NBmy",
        "colab": {
          "base_uri": "https://localhost:8080/"
        },
        "outputId": "dce8baca-eb93-4d28-c2ae-cab2ee33a8e3"
      },
      "source": [
        "txt = \"The best things in life are free!\"\n",
        "if \"expensive\" not in txt:\n",
        "  print(\"No, 'expensive' is NOT present.\")"
      ],
      "execution_count": 18,
      "outputs": [
        {
          "output_type": "stream",
          "name": "stdout",
          "text": [
            "No, 'expensive' is NOT present.\n"
          ]
        }
      ]
    }
  ]
}